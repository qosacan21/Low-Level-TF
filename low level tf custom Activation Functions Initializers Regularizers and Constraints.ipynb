{
 "cells": [
  {
   "cell_type": "code",
   "execution_count": 4,
   "metadata": {},
   "outputs": [],
   "source": [
    "import numpy as np\n",
    "import pandas as pd\n",
    "import matplotlib.pyplot as plt\n",
    "import tensorflow as tf"
   ]
  },
  {
   "cell_type": "markdown",
   "metadata": {},
   "source": [
    "# Custom Functions"
   ]
  },
  {
   "cell_type": "code",
   "execution_count": 5,
   "metadata": {},
   "outputs": [],
   "source": [
    "def my_softplus(z): # return value is just tf.nn.softplus(z)\n",
    "    return tf.math.log(tf.exp(z)+ 1.0)"
   ]
  },
  {
   "cell_type": "code",
   "execution_count": 11,
   "metadata": {},
   "outputs": [
    {
     "data": {
      "text/plain": [
       "<tf.Tensor: shape=(3,), dtype=float32, numpy=array([2.126928 , 3.0485873, 5.0067153], dtype=float32)>"
      ]
     },
     "execution_count": 11,
     "metadata": {},
     "output_type": "execute_result"
    }
   ],
   "source": [
    "my_softplus(tf.constant([2,3,5], dtype=tf.float32)) # works only for float32"
   ]
  },
  {
   "cell_type": "code",
   "execution_count": 12,
   "metadata": {},
   "outputs": [],
   "source": [
    "def my_glorot_initializer(shape, dtype = tf.float32):\n",
    "    stddev = tf.sqrt(2./ (shape[0] + shape[1]))\n",
    "    return tf.random.normal(shape, stddev = stddev, dtype=dtype)"
   ]
  },
  {
   "cell_type": "code",
   "execution_count": 13,
   "metadata": {},
   "outputs": [],
   "source": [
    "def my_l1_regularizer(weights):\n",
    "    return tf.reduce_sum(tf.abs(0.01 * weights))"
   ]
  },
  {
   "cell_type": "code",
   "execution_count": 14,
   "metadata": {},
   "outputs": [],
   "source": [
    "def my_positive_weights(weights):\n",
    "    return tf.where(weights <0., tf.zeros_like(weights), weights)"
   ]
  },
  {
   "cell_type": "code",
   "execution_count": null,
   "metadata": {},
   "outputs": [],
   "source": []
  },
  {
   "cell_type": "code",
   "execution_count": 17,
   "metadata": {},
   "outputs": [],
   "source": [
    "# load dataset for linear problem\n",
    "from sklearn.datasets import load_boston\n",
    "\n",
    "data = load_boston()\n",
    "X, y = data.data, data.target"
   ]
  },
  {
   "cell_type": "code",
   "execution_count": 18,
   "metadata": {},
   "outputs": [],
   "source": [
    "y = y.reshape(-1,1)"
   ]
  },
  {
   "cell_type": "code",
   "execution_count": 19,
   "metadata": {},
   "outputs": [
    {
     "name": "stdout",
     "output_type": "stream",
     "text": [
      "Epoch 1/20\n",
      "16/16 [==============================] - 2s 12ms/step - loss: nan - mae: nan\n",
      "Epoch 2/20\n",
      "16/16 [==============================] - 0s 12ms/step - loss: nan - mae: nan\n",
      "Epoch 3/20\n",
      "16/16 [==============================] - 0s 12ms/step - loss: nan - mae: nan\n",
      "Epoch 4/20\n",
      "16/16 [==============================] - 0s 12ms/step - loss: nan - mae: nan\n",
      "Epoch 5/20\n",
      "16/16 [==============================] - 0s 12ms/step - loss: nan - mae: nan\n",
      "Epoch 6/20\n",
      "16/16 [==============================] - 0s 13ms/step - loss: nan - mae: nan\n",
      "Epoch 7/20\n",
      "16/16 [==============================] - 0s 9ms/step - loss: nan - mae: nan\n",
      "Epoch 8/20\n",
      "16/16 [==============================] - 0s 10ms/step - loss: nan - mae: nan\n",
      "Epoch 9/20\n",
      "16/16 [==============================] - 0s 12ms/step - loss: nan - mae: nan\n",
      "Epoch 10/20\n",
      "16/16 [==============================] - 0s 5ms/step - loss: nan - mae: nan\n",
      "Epoch 11/20\n",
      "16/16 [==============================] - 0s 3ms/step - loss: nan - mae: nan\n",
      "Epoch 12/20\n",
      "16/16 [==============================] - 0s 4ms/step - loss: nan - mae: nan\n",
      "Epoch 13/20\n",
      "16/16 [==============================] - 0s 5ms/step - loss: nan - mae: nan\n",
      "Epoch 14/20\n",
      "16/16 [==============================] - 0s 5ms/step - loss: nan - mae: nan\n",
      "Epoch 15/20\n",
      "16/16 [==============================] - 0s 5ms/step - loss: nan - mae: nan\n",
      "Epoch 16/20\n",
      "16/16 [==============================] - 0s 5ms/step - loss: nan - mae: nan\n",
      "Epoch 17/20\n",
      "16/16 [==============================] - 0s 5ms/step - loss: nan - mae: nan\n",
      "Epoch 18/20\n",
      "16/16 [==============================] - 0s 5ms/step - loss: nan - mae: nan\n",
      "Epoch 19/20\n",
      "16/16 [==============================] - 0s 5ms/step - loss: nan - mae: nan\n",
      "Epoch 20/20\n",
      "16/16 [==============================] - 0s 5ms/step - loss: nan - mae: nan\n"
     ]
    }
   ],
   "source": [
    "# simple model\n",
    "\n",
    "model = tf.keras.models.Sequential([\n",
    "    tf.keras.layers.Dense(20, activation = my_softplus, kernel_initializer = my_glorot_initializer),\n",
    "    tf.keras.layers.Dense(1, activation = tf.keras.activations.linear)\n",
    "])\n",
    "\n",
    "model.compile( loss = tf.keras.losses.mae,\n",
    "             optimizer = tf.keras.optimizers.Adam(),\n",
    "             metrics = ['mae'])\n",
    "\n",
    "history = model.fit(X,y, epochs = 20)"
   ]
  },
  {
   "cell_type": "code",
   "execution_count": 20,
   "metadata": {},
   "outputs": [
    {
     "data": {
      "text/plain": [
       "<matplotlib.axes._subplots.AxesSubplot at 0x2b614192df0>"
      ]
     },
     "execution_count": 20,
     "metadata": {},
     "output_type": "execute_result"
    },
    {
     "data": {
      "image/png": "[encoded data removed]",
      "text/plain": [
       "<Figure size 432x288 with 1 Axes>"
      ]
     },
     "metadata": {
      "needs_background": "light"
     },
     "output_type": "display_data"
    }
   ],
   "source": [
    "pd.DataFrame(history.history).plot()"
   ]
  },
  {
   "cell_type": "code",
   "execution_count": null,
   "metadata": {},
   "outputs": [],
   "source": []
  }
 ],
 "metadata": {
  "kernelspec": {
   "display_name": "Python 3",
   "language": "python",
   "name": "python3"
  },
  "language_info": {
   "codemirror_mode": {
    "name": "ipython",
    "version": 3
   },
   "file_extension": ".py",
   "mimetype": "text/x-python",
   "name": "python",
   "nbconvert_exporter": "python",
   "pygments_lexer": "ipython3",
   "version": "3.8.3"
  }
 },
 "nbformat": 4,
 "nbformat_minor": 4
}
