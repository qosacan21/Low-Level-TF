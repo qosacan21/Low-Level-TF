{
 "cells": [
  {
   "cell_type": "code",
   "execution_count": 1,
   "metadata": {},
   "outputs": [],
   "source": [
    "import numpy as np\n",
    "import pandas as pd\n",
    "import matplotlib.pyplot as plt\n",
    "import tensorflow as tf"
   ]
  },
  {
   "cell_type": "markdown",
   "metadata": {},
   "source": [
    "# Custom Loss Functions"
   ]
  },
  {
   "cell_type": "code",
   "execution_count": 2,
   "metadata": {},
   "outputs": [],
   "source": [
    "# creating huber loss funciton\n",
    "\n",
    "def huber_fn(y_true, y_pred):\n",
    "    error = y_true - y_pred\n",
    "    is_small_error = tf.abs(error) < 1\n",
    "    squared_loss = tf.square(error)/2\n",
    "    linear_loss = tf.abs(error) - 0.5\n",
    "    return tf.where(is_small_error,squared_loss,linear_loss)"
   ]
  },
  {
   "cell_type": "code",
   "execution_count": 3,
   "metadata": {},
   "outputs": [],
   "source": [
    "# load dataset for linear problem\n",
    "from sklearn.datasets import load_boston\n",
    "\n",
    "data = load_boston()\n",
    "X, y = data.data, data.target"
   ]
  },
  {
   "cell_type": "code",
   "execution_count": 8,
   "metadata": {},
   "outputs": [],
   "source": [
    "y = y.reshape(-1,1)"
   ]
  },
  {
   "cell_type": "code",
   "execution_count": 11,
   "metadata": {},
   "outputs": [
    {
     "name": "stdout",
     "output_type": "stream",
     "text": [
      "Epoch 1/20\n",
      "16/16 [==============================] - 4s 8ms/step - loss: 63.4990 - mae: 63.9990\n",
      "Epoch 2/20\n",
      "16/16 [==============================] - 0s 5ms/step - loss: 33.5435 - mae: 34.0399\n",
      "Epoch 3/20\n",
      "16/16 [==============================] - 0s 4ms/step - loss: 25.3280 - mae: 25.8238\n",
      "Epoch 4/20\n",
      "16/16 [==============================] - 0s 5ms/step - loss: 21.3773 - mae: 21.8760\n",
      "Epoch 5/20\n",
      "16/16 [==============================] - 0s 4ms/step - loss: 18.0539 - mae: 18.5499\n",
      "Epoch 6/20\n",
      "16/16 [==============================] - 0s 4ms/step - loss: 15.1989 - mae: 15.6933\n",
      "Epoch 7/20\n",
      "16/16 [==============================] - 0s 4ms/step - loss: 13.0140 - mae: 13.5096\n",
      "Epoch 8/20\n",
      "16/16 [==============================] - 0s 4ms/step - loss: 11.3073 - mae: 11.7960\n",
      "Epoch 9/20\n",
      "16/16 [==============================] - 0s 4ms/step - loss: 10.0219 - mae: 10.5096\n",
      "Epoch 10/20\n",
      "16/16 [==============================] - 0s 4ms/step - loss: 9.1060 - mae: 9.5911\n",
      "Epoch 11/20\n",
      "16/16 [==============================] - 0s 4ms/step - loss: 8.4140 - mae: 8.8986\n",
      "Epoch 12/20\n",
      "16/16 [==============================] - 0s 5ms/step - loss: 7.8757 - mae: 8.3588\n",
      "Epoch 13/20\n",
      "16/16 [==============================] - 0s 4ms/step - loss: 7.4829 - mae: 7.9694\n",
      "Epoch 14/20\n",
      "16/16 [==============================] - 0s 4ms/step - loss: 7.1571 - mae: 7.6483\n",
      "Epoch 15/20\n",
      "16/16 [==============================] - 0s 4ms/step - loss: 6.9599 - mae: 7.4460\n",
      "Epoch 16/20\n",
      "16/16 [==============================] - 0s 4ms/step - loss: 6.8266 - mae: 7.3100\n",
      "Epoch 17/20\n",
      "16/16 [==============================] - 0s 4ms/step - loss: 6.6136 - mae: 7.0941\n",
      "Epoch 18/20\n",
      "16/16 [==============================] - 0s 3ms/step - loss: 6.5107 - mae: 6.9959\n",
      "Epoch 19/20\n",
      "16/16 [==============================] - 0s 3ms/step - loss: 6.2610 - mae: 6.7424\n",
      "Epoch 20/20\n",
      "16/16 [==============================] - 0s 4ms/step - loss: 6.1929 - mae: 6.6752\n"
     ]
    }
   ],
   "source": [
    "# simple model\n",
    "\n",
    "model = tf.keras.models.Sequential([\n",
    "    tf.keras.layers.Dense(20, activation = tf.keras.activations.elu, kernel_initializer = tf.keras.initializers.he_uniform),\n",
    "    tf.keras.layers.Dense(1, activation = tf.keras.activations.linear)\n",
    "])\n",
    "\n",
    "model.compile( loss = huber_fn,\n",
    "             optimizer = tf.keras.optimizers.Adam(),\n",
    "             metrics = ['mae'])\n",
    "\n",
    "history = model.fit(X,y, epochs = 20)"
   ]
  },
  {
   "cell_type": "code",
   "execution_count": 13,
   "metadata": {},
   "outputs": [
    {
     "data": {
      "text/plain": [
       "<matplotlib.axes._subplots.AxesSubplot at 0x26189a4fd60>"
      ]
     },
     "execution_count": 13,
     "metadata": {},
     "output_type": "execute_result"
    },
    {
     "data": {
      "image/png": "[encoded data removed]",
      "text/plain": [
       "<Figure size 432x288 with 1 Axes>"
      ]
     },
     "metadata": {
      "needs_background": "light"
     },
     "output_type": "display_data"
    }
   ],
   "source": [
    "pd.DataFrame(history.history).plot()"
   ]
  },
  {
   "cell_type": "code",
   "execution_count": 14,
   "metadata": {},
   "outputs": [],
   "source": [
    "# create a subclass of keras as loss function"
   ]
  },
  {
   "cell_type": "code",
   "execution_count": 15,
   "metadata": {},
   "outputs": [],
   "source": [
    "class huberloss2(tf.keras.losses.Loss):\n",
    "    def __init__(self, threshold = 1.0, **kwargs):\n",
    "        self.threshold = threshold\n",
    "        super().__init__(**kwargs)\n",
    "    def call(self, y_true, y_pred):\n",
    "        error = y_true - y_pred\n",
    "        is_small_error = tf.abs(error) < self.threshold\n",
    "        squared_loss = tf.square(error) /2\n",
    "        linear_loss = self.threshold * tf.abs(error) - self.threshold**2 /2\n",
    "        return tf.where(is_small_error,squared_loss,linear_loss)\n",
    "    def get_config(self):\n",
    "        base_config = super().get_config()\n",
    "        return {**base_config,\"threshold\":self.threshold}"
   ]
  },
  {
   "cell_type": "code",
   "execution_count": null,
   "metadata": {},
   "outputs": [],
   "source": []
  }
 ],
 "metadata": {
  "kernelspec": {
   "display_name": "Python 3",
   "language": "python",
   "name": "python3"
  },
  "language_info": {
   "codemirror_mode": {
    "name": "ipython",
    "version": 3
   },
   "file_extension": ".py",
   "mimetype": "text/x-python",
   "name": "python",
   "nbconvert_exporter": "python",
   "pygments_lexer": "ipython3",
   "version": "3.8.3"
  }
 },
 "nbformat": 4,
 "nbformat_minor": 4
}
